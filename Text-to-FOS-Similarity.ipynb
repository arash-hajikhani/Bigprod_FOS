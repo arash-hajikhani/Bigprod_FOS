{
 "cells": [
  {
   "cell_type": "markdown",
   "metadata": {},
   "source": [
    "# Notebook for Fos-tagging of text content"
   ]
  },
  {
   "cell_type": "markdown",
   "metadata": {},
   "source": [
    "### Step 1: Pull docker image. For further instructions visit https://hub.docker.com/r/lukaspkl/fos-tag"
   ]
  },
  {
   "cell_type": "code",
   "execution_count": 9,
   "metadata": {},
   "outputs": [
    {
     "name": "stderr",
     "output_type": "stream",
     "text": [
      "'sudo' is not recognized as an internal or external command,\n",
      "operable program or batch file.\n"
     ]
    }
   ],
   "source": [
    "!sudo docker pull lukaspkl/fos-tag:latest"
   ]
  },
  {
   "cell_type": "markdown",
   "metadata": {},
   "source": [
    "### Step 2: Run the image"
   ]
  },
  {
   "cell_type": "code",
   "execution_count": 11,
   "metadata": {},
   "outputs": [
    {
     "name": "stderr",
     "output_type": "stream",
     "text": [
      "'sudo' is not recognized as an internal or external command,\n",
      "operable program or batch file.\n"
     ]
    }
   ],
   "source": [
    "!sudo docker run -d -p 1122:8080 --name my-fos-tag  lukaspkl/fos-tag"
   ]
  },
  {
   "cell_type": "markdown",
   "metadata": {},
   "source": [
    "### Step 3: Use the image"
   ]
  },
  {
   "cell_type": "code",
   "execution_count": 7,
   "metadata": {},
   "outputs": [],
   "source": [
    "import requests \n",
    "import json\n",
    "from tqdm import tqdm"
   ]
  },
  {
   "cell_type": "code",
   "execution_count": 12,
   "metadata": {},
   "outputs": [
    {
     "name": "stdout",
     "output_type": "stream",
     "text": [
      "<html>\n",
      "<head></head>\n",
      "\n",
      "<body>\n",
      "<h1 style='color:black'>Hello There!</h1>\n",
      "\n",
      "<p>If you see this, then the API is up and running.</p>\n",
      "\n",
      "\n",
      "</body>\n",
      "<html>\n",
      "\n"
     ]
    }
   ],
   "source": [
    "#Check if docker works \n",
    "res = requests.get(\"http://localhost:1122\")\n",
    "print(res.text)"
   ]
  },
  {
   "cell_type": "code",
   "execution_count": 13,
   "metadata": {},
   "outputs": [],
   "source": [
    "test = [\"\"\"Retinitis pigmentosa (RP) is an inherited retinal dystrophy caused by the loss of photoreceptors and characterized by retinal pigment deposits visible on fundus examination. Prevalence of non syndromic RP is approximately 1/4,000. The most common form of RP is a rod-cone dystrophy, in which the first symptom is night blindness, followed by the progressive loss in the peripheral visual field in daylight, and eventually leading to blindness after several decades. Some extreme cases may have a rapid evolution over two decades or a slow progression that never leads to blindness. In some cases, the clinical presentation is a cone-rod dystrophy, in which the decrease in visual acuity predominates over the visual field loss. RP is usually non syndromic but there are also many syndromic forms, the most frequent being Usher syndrome. To date, 45 causative genes/loci have been identified in non syndromic RP (for the autosomal dominant, autosomal recessive, X-linked, and digenic forms). Clinical diagnosis is based on the presence of night blindness and peripheral visual field defects, lesions in the fundus, hypovolted electroretinogram traces, and progressive worsening of these signs. Molecular diagnosis can be made for some genes, but is not usually performed due to the tremendous genetic heterogeneity of the disease. Genetic counseling is always advised. Currently, there is no therapy that stops the evolution of the disease or restores the vision, so the visual prognosis is poor. The therapeutic approach is restricted to slowing down the degenerative process by sunlight protection and vitaminotherapy, treating the complications (cataract and macular edema), and helping patients to cope with the social and psychological impact of blindness. However, new therapeutic strategies are emerging from intensive research (gene therapy, neuroprotection, retinal prosthesis).\"\"\", \n",
    "       \"\"\"Technological improvements in rechargeable solid-state batteries are being driven by an ever-increasing demand for portable electronic devices. Lithium-ion batteries are the systems of choice, offering high energy density, flexible and lightweight design, and longer lifespan than comparable battery technologies. We present a brief historical review of the development of lithium-based rechargeable batteries, highlight ongoing research strategies, and discuss the challenges that remain regarding the synthesis, characterization, electrochemical performance and safety of these systems\"\"\", \n",
    "       \"\"\"In most countries, sanitary landfilling is nowadays the most common way to eliminate municipal solid wastes (MSW). In spite of many advantages, generation of heavily polluted leachates, presenting significant variations in both volumetric flow and chemical composition, constitutes a major drawback. Year after year, the recognition of landfill leachate impact on environment has forced authorities to fix more and more stringent requirements for pollution control. This paper is a review of landfill leachate treatments. After the state of art, a discussion put in light an opportunity and some results of the treatment process performances are given. Advantages and drawbacks of the various treatments are discussed under the items: (a) leachate transfer, (b) biodegradation, (c) chemical and physical methods and (d) membrane processes. Several tables permit to review and summarize each treatment efficiency depending on operating conditions. Finally, considering the hardening of the standards of rejection, conventional landfill leachate treatment plants appear under-dimensioned or do not allow to reach the specifications required by the legislator. So that, new technologies or conventional ones improvements have been developed and tried to be financially attractive. Today, the use of membrane technologies, more especially reverse osmosis (RO), either as a main step in a landfill leachate treatment chain or as single post-treatment step has shown to be an indispensable means of achieving purification. \"\"\", \n",
    "       \"\"\"With the ready accessibility of bibliometric data and the availability of ready-to-use tools for generating bibliometric indicators for evaluation purposes, there is the danger of inappropri- ate use. Here we present standards of good practice for analyzing bibliometric data and presenting and interpreting the results. Comparisons drawn between research groups as to research perfor- mance are valid only if (1) the scientific impact of the research groups or their publications are looked at by using box plots, Lorenz curves, and Gini coefficients to represent distribution characteristics of data (in other words, going beyond the usual arithmetic mean value), (2) different reference stan- dards are used to assess the impact of research groups, and the appropriateness of the reference stan- dards undergoes critical examination, and (3) statistical analyses comparing citation counts take into consideration that citations are a function of many influencing factors besides scientific quality.\"\"\"]"
   ]
  },
  {
   "cell_type": "markdown",
   "metadata": {},
   "source": [
    "### NB! Allow ~4 mins for dependencies to fully load"
   ]
  },
  {
   "cell_type": "markdown",
   "metadata": {},
   "source": [
    "### Single text"
   ]
  },
  {
   "cell_type": "code",
   "execution_count": 14,
   "metadata": {},
   "outputs": [
    {
     "data": {
      "text/plain": [
       "'{\"Progressive visual loss\": 32, \"Visual field loss\": 28, \"Cone-Rod Dystrophy\": 28, \"Complete Blindness\": 28, \"Dystrophy\": 27, \"Visual field\": 27, \"Meridian (perimetry, visual field)\": 26, \"Functional visual loss\": 26, \"Visual field test\": 26, \"Total blindness\": 26, \"Visual field testing\": 25, \"Blindness\": 25, \"Quadrantanopia\": 24, \"Visual Disturbance\": 24, \"Visual defects\": 24, \"Sudden visual loss\": 24, \"Hemianopsia\": 24, \"Anterior Visual Pathway\": 23, \"Visual Physiology\": 23, \"Visual deficit\": 23, \"Visual changes\": 23, \"Retinal Dystrophies\": 22, \"Goldmann perimetry\": 22, \"Visual Disorders\": 22, \"Visual prosthesis\": 22, \"Transient blindness\": 22, \"Cone dystrophy\": 21, \"Retinitis pigmentosa\": 21, \"Visual structure\": 21, \"Visual research\": 21, \"Visual symptoms\": 21, \"Gene therapy of the human retina\": 21, \"Visual system\": 21, \"Automated static perimetry\": 21, \"Visual abnormalities\": 21, \"Visual approach\": 20, \"Visual phenomena\": 20, \"Visual rhetoric\": 20, \"Visual Manifestations\": 20, \"Gaze-contingency paradigm\": 20, \"Peripheral vision\": 20, \"Optic disc pallor\": 20, \"Visual space\": 20, \"Visual processing\": 20, \"Central vision\": 20, \"Vision for perception and vision for action\": 20, \"Visual rehabilitation\": 20, \"Macular dystrophy\": 19, \"Cortical blindness\": 19, \"Visual capture\": 19, \"Biased Competition Theory\": 19, \"Visual behaviour\": 19, \"Visual control\": 19, \"Visual sensory\": 19, \"Visual threshold\": 19, \"Visual language\": 19, \"VISUAL TRAINING\": 19, \"Nyctalopia\": 19, \"Visual technology\": 19, \"Central scotoma\": 19, \"Slow progression\": 19, \"Visual communication\": 19, \"Visual snow\": 19, \"Visual sociology\": 18, \"Leber\\'s congenital amaurosis\": 18, \"N2pc\": 18, \"Change blindness\": 18, \"Tunnel vision\": 18, \"Visual hierarchy\": 18, \"Neuro-ophthalmology\": 18, \"Blindsight\": 18, \"Humphrey visual field\": 18, \"Leber congenital amaurosis\": 18, \"Optic neuropathy\": 18, \"Goldmann perimeter\": 18, \"Visual testing\": 18, \"Posterior ischemic optic neuropathy\": 18, \"Visual N1\": 17, \"Ischemic optic neuropathy\": 17, \"Visual thinking\": 17, \"Visual culture\": 17, \"Tangent screen\": 17, \"Visual Suppression\": 17, \"Bilateral blindness\": 17, \"Retinal degeneration\": 17, \"Visual Objects\": 17, \"Legal blindness\": 17, \"Visual reasoning\": 17, \"Vision therapy\": 17, \"Visual estimation\": 17, \"Visual Ergonomics\": 17, \"Visual angle\": 17, \"Visual impairment\": 16, \"Homonymous hemianopsia\": 16, \"PDE6B\": 16, \"RPE65\": 16, \"Visual phototransduction\": 16, \"Molecular therapy\": 16, \"Visual appearance\": 16, \"Visual contrast\": 16}\\n'"
      ]
     },
     "execution_count": 14,
     "metadata": {},
     "output_type": "execute_result"
    }
   ],
   "source": [
    "query = test[0]\n",
    "\n",
    "data = {\"query\" : query}\n",
    "\n",
    "res = requests.post(\"http://localhost:1122/fos-tag\", data=data)\n",
    "\n",
    "res.text"
   ]
  },
  {
   "cell_type": "markdown",
   "metadata": {},
   "source": [
    "### Multiple texts"
   ]
  },
  {
   "cell_type": "code",
   "execution_count": 15,
   "metadata": {},
   "outputs": [
    {
     "name": "stderr",
     "output_type": "stream",
     "text": [
      "100%|██████████| 4/4 [00:09<00:00,  2.33s/it]\n"
     ]
    }
   ],
   "source": [
    "results = []\n",
    "\n",
    "for text in tqdm(test):\n",
    "    data = {\"query\":text}\n",
    "    res =requests.post(\"http://localhost:1122/fos-tag\", data=data)\n",
    "    results.append(res.text)"
   ]
  },
  {
   "cell_type": "code",
   "execution_count": 16,
   "metadata": {},
   "outputs": [
    {
     "data": {
      "text/plain": [
       "'{\"Leachate\": 34, \"Existing Treatment\": 24, \"Bioreactor landfill\": 24, \"Membrane technology\": 22, \"Nanofiltration\": 22, \"Sequential treatment\": 21, \"Multiple treatments\": 21, \"Membrane\": 20, \"Membrane method\": 20, \"Direct Treatment\": 20, \"Whole membrane\": 20, \"Best available technology\": 20, \"Membrane flux\": 19, \"Synthetic membrane\": 19, \"Secondary treatment\": 19, \"Spite\": 19, \"Membrane structure\": 19, \"Molecular weight cut-off\": 19, \"Conventional treatment\": 19, \"What treatment\": 19, \"Mechanical Treatments\": 19, \"Microfiltration\": 19, \"Treatment matching\": 18, \"Treatment Setting\": 18, \"Next-Generation Technology\": 18, \"Biochemical engineering\": 18, \"Membrane synthesis\": 18, \"Treatment factors\": 18, \"Membrane part\": 18, \"Combined treatment method\": 18, \"Treatment phases\": 18, \"Thin-film composite membrane\": 18, \"Membrane function\": 18, \"Emerging technologies\": 18, \"Alternative technology\": 18, \"Reason for Treatment\": 18, \"Biodegradation\": 18, \"General treatments\": 18, \"Treatment intensity\": 18, \"Ceramic membrane\": 18, \"Treatment completion\": 18, \"Treatment entry\": 18, \"Past treatments\": 18, \"Treatment field\": 18, \"Membrane fouling\": 18, \"Treatment completed\": 18, \"Treatment issues\": 17, \"Treatment status\": 17, \"Standard treatment\": 17, \"Need treatment\": 17, \"Passive Treatment\": 17, \"Chemical process\": 17, \"Invasive treatments\": 17, \"Novel treatment method\": 17, \"Membrane bending\": 17, \"Membrane organization\": 17, \"Membrane cell\": 17, \"Ultrafiltration\": 17, \"Membrane bioreactor\": 17, \"Membrane reactor\": 17, \"Biological membrane\": 17, \"Membrane biology\": 17, \"Legislator\": 17, \"Mature technology\": 17, \"Polar membrane\": 17, \"Membrane activity\": 17, \"Membrane biophysics\": 17, \"Functional Treatment\": 17, \"Treatment demand\": 17, \"Treatment utilization\": 17, \"Membrane region\": 17, \"Chemical plant\": 17, \"Coated membrane\": 16, \"Comprehensive treatment program\": 16, \"Appropriate technology\": 16, \"Elasticity of cell membranes\": 16, \"Semipermeable membrane\": 16, \"Polysulfone\": 16, \"Treatment Schedule\": 16, \"Concentration polarization\": 16, \"Chemical addition\": 16, \"Membrane coat\": 16, \"Indirect Treatment\": 16, \"Off Treatment\": 16, \"Membrane distillation\": 16, \"Zero liquid discharge\": 16, \"Membrane stack\": 16, \"Pervaporation\": 16, \"Physical plant\": 16, \"Forward osmosis\": 16, \"Treatment barriers\": 16, \"Treatment side effects\": 16, \"Treatment staff\": 16, \"Pollution\": 16, \"Membrane degradation\": 16, \"Thermal treatment\": 16, \"Methods treatment\": 15, \"Low technology\": 15, \"Treatment Effectiveness Evaluation\": 15, \"PHYSICAL FORCES\": 15}\\n'"
      ]
     },
     "execution_count": 16,
     "metadata": {},
     "output_type": "execute_result"
    }
   ],
   "source": [
    "results[2]"
   ]
  },
  {
   "cell_type": "markdown",
   "metadata": {},
   "source": [
    "### Docker Opeations"
   ]
  },
  {
   "cell_type": "code",
   "execution_count": null,
   "metadata": {},
   "outputs": [],
   "source": [
    "#Logs\n",
    "!sudo docker logs my-fos-tag"
   ]
  },
  {
   "cell_type": "code",
   "execution_count": null,
   "metadata": {},
   "outputs": [],
   "source": [
    "#Stop\n",
    "!sudo docker stop my-fos-tag"
   ]
  },
  {
   "cell_type": "code",
   "execution_count": null,
   "metadata": {},
   "outputs": [],
   "source": [
    "#Remove\n",
    "!sudo docker rm my-fos-tag"
   ]
  }
 ],
 "metadata": {
  "kernelspec": {
   "display_name": "Python 3",
   "language": "python",
   "name": "python3"
  },
  "language_info": {
   "codemirror_mode": {
    "name": "ipython",
    "version": 3
   },
   "file_extension": ".py",
   "mimetype": "text/x-python",
   "name": "python",
   "nbconvert_exporter": "python",
   "pygments_lexer": "ipython3",
   "version": "3.8.5"
  }
 },
 "nbformat": 4,
 "nbformat_minor": 4
}
